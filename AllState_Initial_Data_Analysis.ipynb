{
  "cells": [
    {
      "cell_type": "markdown",
      "metadata": {
        "id": "view-in-github",
        "colab_type": "text"
      },
      "source": [
        "<a href=\"https://colab.research.google.com/github/caoimheburke/AMA3022_W_B/blob/main/AllState_Initial_Data_Analysis.ipynb\" target=\"_parent\"><img src=\"https://colab.research.google.com/assets/colab-badge.svg\" alt=\"Open In Colab\"/></a>"
      ]
    },
    {
      "cell_type": "markdown",
      "source": [
        "#Initial work carried out when analysing the original data set:\n",
        "* Took findings from this and modified the Excel spreadsheet entirely, to use a clean data file for all analysis.\n"
      ],
      "metadata": {
        "id": "5JCCwdd95LAP"
      }
    },
    {
      "cell_type": "code",
      "execution_count": null,
      "metadata": {
        "colab": {
          "base_uri": "https://localhost:8080/",
          "height": 74,
          "resources": {
            "http://localhost:8080/nbextensions/google.colab/files.js": {
              "data": "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",
              "headers": [
                [
                  "content-type",
                  "application/javascript"
                ]
              ],
              "ok": true,
              "status": 200,
              "status_text": ""
            }
          }
        },
        "id": "lqaNB0PsTrZj",
        "outputId": "cea7eb4f-1791-4b87-dc66-7391913019a5"
      },
      "outputs": [
        {
          "output_type": "display_data",
          "data": {
            "text/plain": [
              "<IPython.core.display.HTML object>"
            ],
            "text/html": [
              "\n",
              "     <input type=\"file\" id=\"files-10e9adff-5ebc-4888-b6a4-15123c7909aa\" name=\"files[]\" multiple disabled\n",
              "        style=\"border:none\" />\n",
              "     <output id=\"result-10e9adff-5ebc-4888-b6a4-15123c7909aa\">\n",
              "      Upload widget is only available when the cell has been executed in the\n",
              "      current browser session. Please rerun this cell to enable.\n",
              "      </output>\n",
              "      <script src=\"/nbextensions/google.colab/files.js\"></script> "
            ]
          },
          "metadata": {}
        },
        {
          "output_type": "stream",
          "name": "stdout",
          "text": [
            "Saving bbike_journey_level_2020_2021.csv to bbike_journey_level_2020_2021.csv\n"
          ]
        }
      ],
      "source": [
        "import numpy as np\n",
        "from matplotlib import pyplot as plt\n",
        "import pandas as pd \n",
        "import seaborn as sns\n",
        "from datetime import date\n",
        "\n",
        "from google.colab import files\n",
        "uploaded = files.upload()"
      ]
    },
    {
      "cell_type": "code",
      "execution_count": null,
      "metadata": {
        "colab": {
          "base_uri": "https://localhost:8080/"
        },
        "id": "XaBULDC8T4Js",
        "outputId": "cd282646-d060-453c-d100-0c2cb345225f"
      },
      "outputs": [
        {
          "output_type": "stream",
          "name": "stdout",
          "text": [
            "        bike_number                       station_from  \\\n",
            "0       bike_number                       station_from   \n",
            "1             82828  Linenhall / Donegall Square South   \n",
            "2             82828                        Stranmillis   \n",
            "3             82828           Gasworks (Cromac Street)   \n",
            "4             82828           Gasworks (Lagan Towpath)   \n",
            "...             ...                                ...   \n",
            "111423       830448                     Botanic Avenue   \n",
            "111424       830448  Arthur Street / Chichester Street   \n",
            "111425       830448                 Corporation Square   \n",
            "111426       830448                           Bankmore   \n",
            "111427       830448                     Botanic Avenue   \n",
            "\n",
            "                               station_to                   time_from  \\\n",
            "0                              station_to                   time_from   \n",
            "1                             Stranmillis  2020-01-01 14:28:47.706092   \n",
            "2                Gasworks (Cromac Street)  2020-01-01 16:32:47.601968   \n",
            "3                Gasworks (Lagan Towpath)  2020-01-02 10:17:47.225784   \n",
            "4                Gasworks (Cromac Street)  2020-01-02 10:28:47.634530   \n",
            "...                                   ...                         ...   \n",
            "111423  Arthur Street / Chichester Street  2021-05-02 11:13:47.282251   \n",
            "111424                 Corporation Square  2021-05-02 12:17:47.415142   \n",
            "111425                           Bankmore  2021-05-02 12:41:48.369254   \n",
            "111426                     Botanic Avenue  2021-05-02 22:44:47.931458   \n",
            "111427                        Ormeau Park  2021-05-03 17:58:47.222819   \n",
            "\n",
            "                           time_to      trip_time_mins        date  \n",
            "0                          time_to      trip_time_mins        date  \n",
            "1       2020-01-01 14:51:47.412459  22.995106116666665  2020-01-01  \n",
            "2       2020-01-01 16:47:47.261957         14.99433315  2020-01-01  \n",
            "3       2020-01-02 10:19:47.686033   2.007670816666667  2020-01-02  \n",
            "4       2020-01-02 10:29:47.516049  0.9980253166666668  2020-01-02  \n",
            "...                            ...                 ...         ...  \n",
            "111423  2021-05-02 11:23:48.247772  10.016092016666667  2021-05-02  \n",
            "111424  2021-05-02 12:26:47.322044   8.998448366666667  2021-05-02  \n",
            "111425  2021-05-02 12:54:47.936410  12.992785933333336  2021-05-02  \n",
            "111426  2021-05-02 23:13:47.074001  28.985709050000004  2021-05-02  \n",
            "111427  2021-05-03 18:09:47.270493  11.000794566666665  2021-05-03  \n",
            "\n",
            "[111428 rows x 7 columns]\n"
          ]
        }
      ],
      "source": [
        "column_names = [\"bike_number\",\t\"station_from\",\t\"station_to\",\t\"time_from\",\t\"time_to\",\t\"trip_time_mins\",\t\"date\"]\n",
        "bbikes_df= pd.read_csv(\"./bbike_journey_level_2020_2021.csv\", names=column_names)\n",
        "\n",
        "print(bbikes_df)"
      ]
    },
    {
      "cell_type": "code",
      "execution_count": null,
      "metadata": {
        "id": "a5mKZsUWtWzT",
        "colab": {
          "base_uri": "https://localhost:8080/"
        },
        "outputId": "9d18e5e8-b0f3-421a-d756-72a6d89e5d0b"
      },
      "outputs": [
        {
          "output_type": "stream",
          "name": "stdout",
          "text": [
            "bike_number       111428\n",
            "station_from      111428\n",
            "station_to        111428\n",
            "time_from         111428\n",
            "time_to           111428\n",
            "trip_time_mins    111428\n",
            "date              111428\n",
            "dtype: int64\n",
            "bike_number       0\n",
            "station_from      0\n",
            "station_to        0\n",
            "time_from         0\n",
            "time_to           0\n",
            "trip_time_mins    0\n",
            "date              0\n",
            "dtype: int64\n"
          ]
        }
      ],
      "source": [
        "#checking for any missingness \n",
        "\n",
        "print(bbikes_df.count())\n",
        "print(bbikes_df.isnull().sum())"
      ]
    },
    {
      "cell_type": "code",
      "source": [
        "bbikes_df.describe()"
      ],
      "metadata": {
        "colab": {
          "base_uri": "https://localhost:8080/",
          "height": 175
        },
        "id": "iQbYMAmUNLoe",
        "outputId": "1c894fdd-52f3-4470-cba2-014f4b3d5502"
      },
      "execution_count": null,
      "outputs": [
        {
          "output_type": "execute_result",
          "data": {
            "text/plain": [
              "       bike_number         station_from           station_to  \\\n",
              "count       111428               111428               111428   \n",
              "unique         629                   60                   61   \n",
              "top          83069  Titanic Belfast Met  Titanic Belfast Met   \n",
              "freq          2330                 6753                 6750   \n",
              "\n",
              "                         time_from                     time_to  \\\n",
              "count                       111428                      111428   \n",
              "unique                       75869                       73121   \n",
              "top     2020-11-25 13:19:45.529903  2020-09-29 20:20:47.839419   \n",
              "freq                            56                          64   \n",
              "\n",
              "            trip_time_mins        date  \n",
              "count               111428      111428  \n",
              "unique               91695         393  \n",
              "top     462.79608981666667  2021-04-02  \n",
              "freq                    42        2006  "
            ],
            "text/html": [
              "\n",
              "  <div id=\"df-e333e86f-27a9-4a34-be87-5ffc4833379e\">\n",
              "    <div class=\"colab-df-container\">\n",
              "      <div>\n",
              "<style scoped>\n",
              "    .dataframe tbody tr th:only-of-type {\n",
              "        vertical-align: middle;\n",
              "    }\n",
              "\n",
              "    .dataframe tbody tr th {\n",
              "        vertical-align: top;\n",
              "    }\n",
              "\n",
              "    .dataframe thead th {\n",
              "        text-align: right;\n",
              "    }\n",
              "</style>\n",
              "<table border=\"1\" class=\"dataframe\">\n",
              "  <thead>\n",
              "    <tr style=\"text-align: right;\">\n",
              "      <th></th>\n",
              "      <th>bike_number</th>\n",
              "      <th>station_from</th>\n",
              "      <th>station_to</th>\n",
              "      <th>time_from</th>\n",
              "      <th>time_to</th>\n",
              "      <th>trip_time_mins</th>\n",
              "      <th>date</th>\n",
              "    </tr>\n",
              "  </thead>\n",
              "  <tbody>\n",
              "    <tr>\n",
              "      <th>count</th>\n",
              "      <td>111428</td>\n",
              "      <td>111428</td>\n",
              "      <td>111428</td>\n",
              "      <td>111428</td>\n",
              "      <td>111428</td>\n",
              "      <td>111428</td>\n",
              "      <td>111428</td>\n",
              "    </tr>\n",
              "    <tr>\n",
              "      <th>unique</th>\n",
              "      <td>629</td>\n",
              "      <td>60</td>\n",
              "      <td>61</td>\n",
              "      <td>75869</td>\n",
              "      <td>73121</td>\n",
              "      <td>91695</td>\n",
              "      <td>393</td>\n",
              "    </tr>\n",
              "    <tr>\n",
              "      <th>top</th>\n",
              "      <td>83069</td>\n",
              "      <td>Titanic Belfast Met</td>\n",
              "      <td>Titanic Belfast Met</td>\n",
              "      <td>2020-11-25 13:19:45.529903</td>\n",
              "      <td>2020-09-29 20:20:47.839419</td>\n",
              "      <td>462.79608981666667</td>\n",
              "      <td>2021-04-02</td>\n",
              "    </tr>\n",
              "    <tr>\n",
              "      <th>freq</th>\n",
              "      <td>2330</td>\n",
              "      <td>6753</td>\n",
              "      <td>6750</td>\n",
              "      <td>56</td>\n",
              "      <td>64</td>\n",
              "      <td>42</td>\n",
              "      <td>2006</td>\n",
              "    </tr>\n",
              "  </tbody>\n",
              "</table>\n",
              "</div>\n",
              "      <button class=\"colab-df-convert\" onclick=\"convertToInteractive('df-e333e86f-27a9-4a34-be87-5ffc4833379e')\"\n",
              "              title=\"Convert this dataframe to an interactive table.\"\n",
              "              style=\"display:none;\">\n",
              "        \n",
              "  <svg xmlns=\"http://www.w3.org/2000/svg\" height=\"24px\"viewBox=\"0 0 24 24\"\n",
              "       width=\"24px\">\n",
              "    <path d=\"M0 0h24v24H0V0z\" fill=\"none\"/>\n",
              "    <path d=\"M18.56 5.44l.94 2.06.94-2.06 2.06-.94-2.06-.94-.94-2.06-.94 2.06-2.06.94zm-11 1L8.5 8.5l.94-2.06 2.06-.94-2.06-.94L8.5 2.5l-.94 2.06-2.06.94zm10 10l.94 2.06.94-2.06 2.06-.94-2.06-.94-.94-2.06-.94 2.06-2.06.94z\"/><path d=\"M17.41 7.96l-1.37-1.37c-.4-.4-.92-.59-1.43-.59-.52 0-1.04.2-1.43.59L10.3 9.45l-7.72 7.72c-.78.78-.78 2.05 0 2.83L4 21.41c.39.39.9.59 1.41.59.51 0 1.02-.2 1.41-.59l7.78-7.78 2.81-2.81c.8-.78.8-2.07 0-2.86zM5.41 20L4 18.59l7.72-7.72 1.47 1.35L5.41 20z\"/>\n",
              "  </svg>\n",
              "      </button>\n",
              "      \n",
              "  <style>\n",
              "    .colab-df-container {\n",
              "      display:flex;\n",
              "      flex-wrap:wrap;\n",
              "      gap: 12px;\n",
              "    }\n",
              "\n",
              "    .colab-df-convert {\n",
              "      background-color: #E8F0FE;\n",
              "      border: none;\n",
              "      border-radius: 50%;\n",
              "      cursor: pointer;\n",
              "      display: none;\n",
              "      fill: #1967D2;\n",
              "      height: 32px;\n",
              "      padding: 0 0 0 0;\n",
              "      width: 32px;\n",
              "    }\n",
              "\n",
              "    .colab-df-convert:hover {\n",
              "      background-color: #E2EBFA;\n",
              "      box-shadow: 0px 1px 2px rgba(60, 64, 67, 0.3), 0px 1px 3px 1px rgba(60, 64, 67, 0.15);\n",
              "      fill: #174EA6;\n",
              "    }\n",
              "\n",
              "    [theme=dark] .colab-df-convert {\n",
              "      background-color: #3B4455;\n",
              "      fill: #D2E3FC;\n",
              "    }\n",
              "\n",
              "    [theme=dark] .colab-df-convert:hover {\n",
              "      background-color: #434B5C;\n",
              "      box-shadow: 0px 1px 3px 1px rgba(0, 0, 0, 0.15);\n",
              "      filter: drop-shadow(0px 1px 2px rgba(0, 0, 0, 0.3));\n",
              "      fill: #FFFFFF;\n",
              "    }\n",
              "  </style>\n",
              "\n",
              "      <script>\n",
              "        const buttonEl =\n",
              "          document.querySelector('#df-e333e86f-27a9-4a34-be87-5ffc4833379e button.colab-df-convert');\n",
              "        buttonEl.style.display =\n",
              "          google.colab.kernel.accessAllowed ? 'block' : 'none';\n",
              "\n",
              "        async function convertToInteractive(key) {\n",
              "          const element = document.querySelector('#df-e333e86f-27a9-4a34-be87-5ffc4833379e');\n",
              "          const dataTable =\n",
              "            await google.colab.kernel.invokeFunction('convertToInteractive',\n",
              "                                                     [key], {});\n",
              "          if (!dataTable) return;\n",
              "\n",
              "          const docLinkHtml = 'Like what you see? Visit the ' +\n",
              "            '<a target=\"_blank\" href=https://colab.research.google.com/notebooks/data_table.ipynb>data table notebook</a>'\n",
              "            + ' to learn more about interactive tables.';\n",
              "          element.innerHTML = '';\n",
              "          dataTable['output_type'] = 'display_data';\n",
              "          await google.colab.output.renderOutput(dataTable, element);\n",
              "          const docLink = document.createElement('div');\n",
              "          docLink.innerHTML = docLinkHtml;\n",
              "          element.appendChild(docLink);\n",
              "        }\n",
              "      </script>\n",
              "    </div>\n",
              "  </div>\n",
              "  "
            ]
          },
          "metadata": {},
          "execution_count": 12
        }
      ]
    },
    {
      "cell_type": "markdown",
      "source": [
        "At this initial stage we dropped anomalies via Python, but as we found more, we found it was better to remove them all from the original Excel file. \n",
        "\n",
        "So below was initally us removing incorrect station names but after this inital data process we went and modified the excel file entirely to have a brand new clean excel file."
      ],
      "metadata": {
        "id": "M9M6g1EIknMM"
      }
    },
    {
      "cell_type": "code",
      "source": [
        "# Dropping Station Names that were incorrect \n",
        "\n",
        "bbikes_drop_df = bbikes_df.drop([48318,48319, 64165,64166, 80791,80792, 34671, 101362, 101361,\n",
        "                                 71354,71355, 6103,6102, 28019,28018, 96095,96094, 29919,29918, 74997,95443])\n",
        "print(bbikes_drop_df)\n",
        "#delete selected rows and print first 10\n",
        "# 2 sets of rows for each station for to and from\n",
        "# 29918, 29919   = next bike IT\n",
        "# 48318, 48319   = 3908\n",
        "# 64166, 64165   = ???\n",
        "# 80792, 80791   = 30m from Titanic\n",
        "# 34671          = co-ordinates 54.585.., -5.95.. (only had one station)\n",
        "# 101361, 101362 = Botanic Gdns\n",
        "# 71354, 71355   = Royal\n",
        "# 6102, 6103     = Royal Ave  \n",
        "# 96094, 96095   = Lombard Street 13\n",
        "# 28018, 28019   = Lough Lea Belfast\n",
        "# 95443, 74997   = Weavers place"
      ],
      "metadata": {
        "colab": {
          "base_uri": "https://localhost:8080/"
        },
        "id": "JobP0ge-3rQK",
        "outputId": "c5f531e5-459a-45fc-bd0e-368e7463e8d2"
      },
      "execution_count": null,
      "outputs": [
        {
          "output_type": "stream",
          "name": "stdout",
          "text": [
            "        bike_number                       station_from  \\\n",
            "0       bike_number                       station_from   \n",
            "1             82828  Linenhall / Donegall Square South   \n",
            "2             82828                        Stranmillis   \n",
            "3             82828           Gasworks (Cromac Street)   \n",
            "4             82828           Gasworks (Lagan Towpath)   \n",
            "...             ...                                ...   \n",
            "111423       830448                     Botanic Avenue   \n",
            "111424       830448  Arthur Street / Chichester Street   \n",
            "111425       830448                 Corporation Square   \n",
            "111426       830448                           Bankmore   \n",
            "111427       830448                     Botanic Avenue   \n",
            "\n",
            "                               station_to                   time_from  \\\n",
            "0                              station_to                   time_from   \n",
            "1                             Stranmillis  2020-01-01 14:28:47.706092   \n",
            "2                Gasworks (Cromac Street)  2020-01-01 16:32:47.601968   \n",
            "3                Gasworks (Lagan Towpath)  2020-01-02 10:17:47.225784   \n",
            "4                Gasworks (Cromac Street)  2020-01-02 10:28:47.634530   \n",
            "...                                   ...                         ...   \n",
            "111423  Arthur Street / Chichester Street  2021-05-02 11:13:47.282251   \n",
            "111424                 Corporation Square  2021-05-02 12:17:47.415142   \n",
            "111425                           Bankmore  2021-05-02 12:41:48.369254   \n",
            "111426                     Botanic Avenue  2021-05-02 22:44:47.931458   \n",
            "111427                        Ormeau Park  2021-05-03 17:58:47.222819   \n",
            "\n",
            "                           time_to      trip_time_mins        date  \n",
            "0                          time_to      trip_time_mins        date  \n",
            "1       2020-01-01 14:51:47.412459  22.995106116666665  2020-01-01  \n",
            "2       2020-01-01 16:47:47.261957         14.99433315  2020-01-01  \n",
            "3       2020-01-02 10:19:47.686033   2.007670816666667  2020-01-02  \n",
            "4       2020-01-02 10:29:47.516049  0.9980253166666668  2020-01-02  \n",
            "...                            ...                 ...         ...  \n",
            "111423  2021-05-02 11:23:48.247772  10.016092016666667  2021-05-02  \n",
            "111424  2021-05-02 12:26:47.322044   8.998448366666667  2021-05-02  \n",
            "111425  2021-05-02 12:54:47.936410  12.992785933333336  2021-05-02  \n",
            "111426  2021-05-02 23:13:47.074001  28.985709050000004  2021-05-02  \n",
            "111427  2021-05-03 18:09:47.270493  11.000794566666665  2021-05-03  \n",
            "\n",
            "[111407 rows x 7 columns]\n"
          ]
        }
      ]
    },
    {
      "cell_type": "code",
      "source": [
        "# Will not run on my Colab but ran on Zoe's jupyter notebook so made note of values here \n",
        "# percentiles found for trip time anomalies \n",
        "\n",
        "#print(np.percentile(bbikes_drop_df['trip_time_mins'], 95))       = 188.735682175\n",
        "#print(np.percentile(bbikes_drop_df['trip_time_mins'], 5))        = 0.9963638875"
      ],
      "metadata": {
        "id": "tN-pbC_f2_Af"
      },
      "execution_count": null,
      "outputs": []
    }
  ],
  "metadata": {
    "colab": {
      "collapsed_sections": [],
      "name": "AllState Initial Data Analysis",
      "provenance": [],
      "include_colab_link": true
    },
    "kernelspec": {
      "display_name": "Python 3",
      "name": "python3"
    },
    "language_info": {
      "name": "python"
    }
  },
  "nbformat": 4,
  "nbformat_minor": 0
}